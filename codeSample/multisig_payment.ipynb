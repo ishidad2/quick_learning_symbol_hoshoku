{
 "cells": [
  {
   "attachments": {},
   "cell_type": "markdown",
   "metadata": {},
   "source": [
    "<hr />\n",
    "\n",
    "### NoteBookの見方\n",
    "コード以外の情報 \n",
    "<span >白/黒での記載は速習Symbol</span>  \n",
    "<span style=\"color:red\">赤色での記載は補足情報</span>  \n",
    "<span >コード内で🌟マークがある場所は自分の情報に書き換えが必要</span>\n",
    "\n",
    "<hr />"
   ]
  },
  {
   "attachments": {},
   "cell_type": "markdown",
   "metadata": {},
   "source": [
    "# 環境構築\n",
    "\n",
    "## 1.Symbol SDKの読み込み </span>"
   ]
  },
  {
   "cell_type": "code",
   "execution_count": 1,
   "metadata": {
    "dotnet_interactive": {
     "language": "javascript"
    },
    "polyglot_notebook": {
     "kernelName": "javascript"
    },
    "vscode": {
     "languageId": "polyglot-notebook"
    }
   },
   "outputs": [],
   "source": [
    "(script = document.createElement(\"script\")).src = \"https://xembook.github.io/nem2-browserify/symbol-sdk-pack-2.0.3.js\";\n",
    "document.getElementsByTagName(\"head\")[0].appendChild(script);"
   ]
  },
  {
   "attachments": {},
   "cell_type": "markdown",
   "metadata": {},
   "source": [
    "## 2.Symbol用の共通設定"
   ]
  },
  {
   "cell_type": "code",
   "execution_count": 2,
   "metadata": {
    "dotnet_interactive": {
     "language": "javascript"
    },
    "polyglot_notebook": {
     "kernelName": "javascript"
    },
    "vscode": {
     "languageId": "polyglot-notebook"
    }
   },
   "outputs": [],
   "source": [
    "NODE = 'https://sym-test-03.opening-line.jp:3001';\n",
    "sym = require(\"/node_modules/symbol-sdk\");\n",
    "repo = new sym.RepositoryFactoryHttp(NODE);\n",
    "txRepo = repo.createTransactionRepository();\n",
    "mosaicRepo = repo.createMosaicRepository();\n",
    "accountRepo = repo.createAccountRepository();\n",
    "(async () => {\n",
    "  networkType = await repo.getNetworkType().toPromise();\n",
    "  generationHash = await repo.getGenerationHash().toPromise();\n",
    "  epochAdjustment = await repo.getEpochAdjustment().toPromise();\n",
    "})();\n",
    "\n",
    "function clog(signedTx){\n",
    "    console.log(NODE + \"/transactionStatus/\" + signedTx.hash);\n",
    "    console.log(NODE + \"/transactions/confirmed/\" + signedTx.hash);\n",
    "    console.log(\"https://symbol.fyi/transactions/\" + signedTx.hash);\n",
    "    console.log(\"https://testnet.symbol.fyi/transactions/\" + signedTx.hash);\n",
    "}"
   ]
  },
  {
   "attachments": {},
   "cell_type": "markdown",
   "metadata": {},
   "source": [
    "## 3.各種アカウントの復元\n",
    "\n",
    "<span style=\"color:red\">\n",
    "※各種アカウントがない場合は3-1へ\n",
    "</span>"
   ]
  },
  {
   "cell_type": "code",
   "execution_count": 35,
   "metadata": {
    "dotnet_interactive": {
     "language": "javascript"
    },
    "polyglot_notebook": {
     "kernelName": "javascript"
    },
    "vscode": {
     "languageId": "polyglot-notebook"
    }
   },
   "outputs": [
    {
     "data": {
      "text/plain": [
       "TCOFFE4XT6KORQA7JJKDYINFIPQR4MPP4UXP44A"
      ]
     },
     "metadata": {},
     "output_type": "display_data"
    },
    {
     "data": {
      "text/plain": [
       "TDFJ55RHBNCPPULRLA7ZZ7FHFFAU7RKXORS7AMQ"
      ]
     },
     "metadata": {},
     "output_type": "display_data"
    },
    {
     "data": {
      "text/plain": [
       "TBP3Y7EBANCIMARH3FBUCLX7VRZNDPGVUWL47EY"
      ]
     },
     "metadata": {},
     "output_type": "display_data"
    },
    {
     "data": {
      "text/plain": [
       "TCJO77JEV7VCP63LN5RYSEUOW77OJFHOLFG56OQ"
      ]
     },
     "metadata": {},
     "output_type": "display_data"
    },
    {
     "data": {
      "text/plain": [
       "TBBVPXG3OO47DQXSRF6AJ35R4RGWVHX3IFOXLZI"
      ]
     },
     "metadata": {},
     "output_type": "display_data"
    }
   ],
   "source": [
    "alice = sym.Account.createFromPrivateKey(\"🌟privateKey🌟\", networkType);\n",
    "main_bot = sym.Account.createFromPrivateKey(\"🌟privateKey🌟\", networkType);\n",
    "sub_bot = sym.Account.createFromPrivateKey(\"🌟privateKey🌟\", networkType);\n",
    "qr = sym.Account.createFromPrivateKey(\"🌟privateKey🌟\", networkType);\n",
    "bob = sym.Account.createFromPrivateKey(\"🌟privateKey🌟\", networkType);\n",
    "\n",
    "console.log(alice.address.plain());\n",
    "console.log(main_bot.address.plain());\n",
    "console.log(sub_bot.address.plain());\n",
    "console.log(qr.address.plain());\n",
    "console.log(bob.address.plain());"
   ]
  },
  {
   "attachments": {},
   "cell_type": "markdown",
   "metadata": {},
   "source": [
    "## 3-1.alice,main_bot,sub_bot,qr,bobアカウントの生成\n",
    "<span style=\"color:red\">\n",
    "※各種アカウントがない場合のみ\n",
    "</span>"
   ]
  },
  {
   "cell_type": "code",
   "execution_count": 32,
   "metadata": {
    "dotnet_interactive": {
     "language": "javascript"
    },
    "polyglot_notebook": {
     "kernelName": "javascript"
    },
    "vscode": {
     "languageId": "polyglot-notebook"
    }
   },
   "outputs": [
    {
     "data": {
      "text/plain": [
       "TB7VE5D46JKBXN3UKEAUW56R6MSDOSYQYSH2C7Y"
      ]
     },
     "metadata": {},
     "output_type": "display_data"
    },
    {
     "data": {
      "text/plain": [
       "TDIVIR6M7ZVPTRIVHIZIIDATXOCFYGWCJFFBSNY"
      ]
     },
     "metadata": {},
     "output_type": "display_data"
    },
    {
     "data": {
      "text/plain": [
       "TB3FMHTNADZJTPWS3XVQHTBPWPYTY2JNIB2SCWQ"
      ]
     },
     "metadata": {},
     "output_type": "display_data"
    },
    {
     "data": {
      "text/plain": [
       "TBGFPFR7PZTEJYFG6TJJ7AYJ5HEBS2BJNS2AYEA"
      ]
     },
     "metadata": {},
     "output_type": "display_data"
    },
    {
     "data": {
      "text/plain": [
       "TBBVPXG3OO47DQXSRF6AJ35R4RGWVHX3IFOXLZI"
      ]
     },
     "metadata": {},
     "output_type": "display_data"
    }
   ],
   "source": [
    "alice = sym.Account.generateNewAccount(networkType);\n",
    "main_bot = sym.Account.generateNewAccount(networkType);\n",
    "sub_bot = sym.Account.generateNewAccount(networkType);\n",
    "qr = sym.Account.generateNewAccount(networkType);\n",
    "bob = sym.Account.generateNewAccount(networkType);\n",
    "\n",
    "console.log(alice.address.plain());\n",
    "console.log(main_bot.address.plain());\n",
    "console.log(sub_bot.address.plain());\n",
    "console.log(qr.address.plain());\n",
    "console.log(bob.address.plain());\n",
    "\n",
    "now = new Date().getTime();\n",
    "\n",
    "data = 'alice: ' + alice.privateKey + \"\\r\\n\";\n",
    "data += 'main_bot: ' + main_bot.privateKey + \"\\r\\n\";\n",
    "data += 'sub_bot: ' + sub_bot.privateKey + \"\\r\\n\";\n",
    "data += 'qr: ' + qr.privateKey + \"\\r\\n\";\n",
    "data += 'bob: ' + bob.privateKey + \"\\r\\n\";\n",
    "if ( ~navigator.userAgent.indexOf(\"Windows\") ) {\n",
    "  data = data.replace(/\\n/g, \"\\r\\n\").replace(/\\r\\r/g, \"\\r\")\n",
    "}\n",
    "const blob = new Blob([data], {type: \"text/plain\"});\n",
    "const link = document.createElement(\"a\");\n",
    "link.href = URL.createObjectURL(blob);\n",
    "link.download = `privatekey-${now}.txt`;\n",
    "link.click();"
   ]
  },
  {
   "attachments": {},
   "cell_type": "markdown",
   "metadata": {},
   "source": [
    "## 4.各アカウントへ残高補充\n",
    "\n",
    "テストネットの場合はFAUCETでアカウントにXYMを補給しておきます。<br />\n",
    "既に残高がある場合は不要。\n",
    "- Faucet\n",
    "    - https://testnet.symbol.tools/\n",
    "\n",
    "##### URL出力\n"
   ]
  },
  {
   "cell_type": "code",
   "execution_count": 22,
   "metadata": {
    "dotnet_interactive": {
     "language": "javascript"
    },
    "polyglot_notebook": {
     "kernelName": "javascript"
    },
    "vscode": {
     "languageId": "polyglot-notebook"
    }
   },
   "outputs": [
    {
     "data": {
      "text/plain": [
       "https://testnet.symbol.tools/?recipient=TCOFFE4XT6KORQA7JJKDYINFIPQR4MPP4UXP44A&amount=500"
      ]
     },
     "metadata": {},
     "output_type": "display_data"
    },
    {
     "data": {
      "text/plain": [
       "https://testnet.symbol.tools/?recipient=TCJO77JEV7VCP63LN5RYSEUOW77OJFHOLFG56OQ&amount=50"
      ]
     },
     "metadata": {},
     "output_type": "display_data"
    },
    {
     "data": {
      "text/plain": [
       "https://testnet.symbol.tools/?recipient=TDFJ55RHBNCPPULRLA7ZZ7FHFFAU7RKXORS7AMQ&amount=1"
      ]
     },
     "metadata": {},
     "output_type": "display_data"
    },
    {
     "data": {
      "text/plain": [
       "https://testnet.symbol.tools/?recipient=TBP3Y7EBANCIMARH3FBUCLX7VRZNDPGVUWL47EY&amount=1"
      ]
     },
     "metadata": {},
     "output_type": "display_data"
    }
   ],
   "source": [
    "console.log(\"https://testnet.symbol.tools/?recipient=\" + alice.address.plain() +\"&amount=500\");\n",
    "console.log(\"https://testnet.symbol.tools/?recipient=\" + qr.address.plain() +\"&amount=50\");\n",
    "console.log(\"https://testnet.symbol.tools/?recipient=\" + main_bot.address.plain() +\"&amount=1\");\n",
    "console.log(\"https://testnet.symbol.tools/?recipient=\" + sub_bot.address.plain() +\"&amount=1\");\n"
   ]
  },
  {
   "attachments": {},
   "cell_type": "markdown",
   "metadata": {},
   "source": [
    "## 5.aliceアカウントのマルチシグの登録\n",
    "<span style=\"color:red\">\n",
    "※既にマルチシグ化してある場合は不要\n",
    "</span>"
   ]
  },
  {
   "cell_type": "code",
   "execution_count": 23,
   "metadata": {
    "dotnet_interactive": {
     "language": "javascript"
    },
    "polyglot_notebook": {
     "kernelName": "javascript"
    },
    "vscode": {
     "languageId": "polyglot-notebook"
    }
   },
   "outputs": [],
   "source": [
    "multisigTx = sym.MultisigAccountModificationTransaction.create(\n",
    "  undefined, \n",
    "  3, //minApproval:承認のために必要な最小署名者数増分\n",
    "  2, //minRemoval:除名のために必要な最小署名者数増分\n",
    "  [\n",
    "      qr.address,\n",
    "      main_bot.address,\n",
    "      sub_bot.address\n",
    "  ], //追加対象アドレスリスト\n",
    "  [],//除名対象アドレスリスト\n",
    "  networkType\n",
    ");\n",
    "aggregateTx = sym.AggregateTransaction.createComplete(\n",
    "  sym.Deadline.create(epochAdjustment),\n",
    "  [//マルチシグ化したいアカウントの公開鍵を指定\n",
    "    multisigTx.toAggregate(alice.publicAccount),\n",
    "  ],\n",
    "  networkType,[]\n",
    ").setMaxFeeForAggregate(100, 3); // 第二引数に連署者の数:2\n",
    "signedTx =  aggregateTx.signTransactionWithCosignatories(\n",
    "  alice, //マルチシグ化したいアカウント\n",
    "  [qr, main_bot, sub_bot], //追加・除外対象として指定したアカウント\n",
    "  generationHash,\n",
    ");\n",
    "await txRepo.announce(signedTx).toPromise();\n",
    "\n"
   ]
  },
  {
   "cell_type": "code",
   "execution_count": 31,
   "metadata": {
    "dotnet_interactive": {
     "language": "javascript"
    },
    "polyglot_notebook": {
     "kernelName": "javascript"
    },
    "vscode": {
     "languageId": "polyglot-notebook"
    }
   },
   "outputs": [
    {
     "data": {
      "application/json": {
       "code": "Success",
       "deadline": {
        "adjustedValue": 15251845799
       },
       "group": "confirmed",
       "hash": "4FCFD25532C2E802CCD6CFCEA87FBA23755947AFEC844E4F76412A5FB6146581",
       "height": {
        "higher": 0,
        "lower": 412036
       }
      }
     },
     "metadata": {},
     "output_type": "display_data"
    },
    {
     "data": {
      "application/json": {
       "transaction": {
        "cosignatures": [
         {
          "signature": "239BDB2AA290184BA7162E29ABE7931F526492D93494C1A4E3C0B2A224FF9F6B3B537AB21C7D1406300749C9036592A3E75224D5212915CC9AA2A993D6D8F60D",
          "signerPublicKey": {
           "address": {
            "address": "TCJO77JEV7VCP63LN5RYSEUOW77OJFHOLFG56OQ",
            "networkType": 152
           },
           "publicKey": "D0869AED95371B2813D68875D2A376A991B71F056B7AA36796232A32A3BAC9AB"
          },
          "version": [
           0,
           0
          ]
         },
         {
          "signature": "2C738D705F1A45105449AB12A22249D7BBAC36CAB1897F7EB3DA6621DCAF7FA03B0C4FF93D7D6D32AF3A1EA873BE7ABAE7EE6119FE82D9D5E9083129874CDA04",
          "signerPublicKey": {
           "address": {
            "address": "TDFJ55RHBNCPPULRLA7ZZ7FHFFAU7RKXORS7AMQ",
            "networkType": 152
           },
           "publicKey": "BDB497BF6D9DDD8BE40E3CFF31E61593BC1F5D89BDA9B11132B30AE625DF2DE6"
          },
          "version": [
           0,
           0
          ]
         },
         {
          "signature": "307FB412E539165558ECCD16968CF747936FC73DB25C074602874F47C4D501CF5406D954D0941A89158FDE2A4183FC54CB3DBE153ED3921BC1197552B064000C",
          "signerPublicKey": {
           "address": {
            "address": "TBP3Y7EBANCIMARH3FBUCLX7VRZNDPGVUWL47EY",
            "networkType": 152
           },
           "publicKey": "CFFE36B7B354ACCFFAE2394F081D24128D39F30077EF7409BB7C6E55CC5C0CFA"
          },
          "version": [
           0,
           0
          ]
         }
        ],
        "deadline": "15251845799",
        "maxFee": "60800",
        "network": 152,
        "signature": "99325841DE6A56A5EAC3673A1B30BEDAC2F18DEBECC8979B29F2FBD6CF4E6543B4B5C785C0363E79723593BCD5E94FA16D22389CA51159572E09486771B6A90A",
        "signerPublicKey": "C256FB1C212D86CB7524CF9A5D9F4A0F9374B8D2B1B252167C48FF803E22F335",
        "transactions": [
         {
          "transaction": {
           "addressAdditions": [
            {
             "address": "TCJO77JEV7VCP63LN5RYSEUOW77OJFHOLFG56OQ",
             "networkType": 152
            },
            {
             "address": "TDFJ55RHBNCPPULRLA7ZZ7FHFFAU7RKXORS7AMQ",
             "networkType": 152
            },
            {
             "address": "TBP3Y7EBANCIMARH3FBUCLX7VRZNDPGVUWL47EY",
             "networkType": 152
            }
           ],
           "addressDeletions": [],
           "deadline": "15251845799",
           "maxFee": "60800",
           "minApprovalDelta": 3,
           "minRemovalDelta": 2,
           "network": 152,
           "signature": "99325841DE6A56A5EAC3673A1B30BEDAC2F18DEBECC8979B29F2FBD6CF4E6543B4B5C785C0363E79723593BCD5E94FA16D22389CA51159572E09486771B6A90A",
           "signerPublicKey": "C256FB1C212D86CB7524CF9A5D9F4A0F9374B8D2B1B252167C48FF803E22F335",
           "type": 16725,
           "version": 1
          }
         }
        ],
        "type": 16705,
        "version": 2
       }
      }
     },
     "metadata": {},
     "output_type": "display_data"
    },
    {
     "data": {
      "text/plain": [
       "https://testnet.symbol.fyi/transactions/4FCFD25532C2E802CCD6CFCEA87FBA23755947AFEC844E4F76412A5FB6146581"
      ]
     },
     "metadata": {},
     "output_type": "display_data"
    }
   ],
   "source": [
    "hash = signedTx.hash;\n",
    "tsRepo = repo.createTransactionStatusRepository();\n",
    "transactionStatus = await tsRepo.getTransactionStatus(hash).toPromise();\n",
    "console.log(transactionStatus);\n",
    "txInfo = await txRepo.getTransaction(hash,sym.TransactionGroup.Confirmed).toPromise();\n",
    "console.log(txInfo);\n",
    "console.log(`https://testnet.symbol.fyi/transactions/${hash}`) //ブラウザで確認を追加"
   ]
  },
  {
   "attachments": {},
   "cell_type": "markdown",
   "metadata": {},
   "source": [
    "## 5-2.確認\n",
    "\n",
    "マルチシグ化したアカウントの確認"
   ]
  },
  {
   "cell_type": "code",
   "execution_count": 28,
   "metadata": {
    "dotnet_interactive": {
     "language": "javascript"
    },
    "polyglot_notebook": {
     "kernelName": "javascript"
    },
    "vscode": {
     "languageId": "polyglot-notebook"
    }
   },
   "outputs": [
    {
     "data": {
      "text/plain": [
       "{\n",
       "  \"version\": 1,\n",
       "  \"accountAddress\": {\n",
       "    \"address\": \"TCOFFE4XT6KORQA7JJKDYINFIPQR4MPP4UXP44A\",\n",
       "    \"networkType\": 152\n",
       "  },\n",
       "  \"minApproval\": 3,\n",
       "  \"minRemoval\": 2,\n",
       "  \"cosignatoryAddresses\": [\n",
       "    {\n",
       "      \"address\": \"TBP3Y7EBANCIMARH3FBUCLX7VRZNDPGVUWL47EY\",\n",
       "      \"networkType\": 152\n",
       "    },\n",
       "    {\n",
       "      \"address\": \"TCJO77JEV7VCP63LN5RYSEUOW77OJFHOLFG56OQ\",\n",
       "      \"networkType\": 152\n",
       "    },\n",
       "    {\n",
       "      \"address\": \"TDFJ55RHBNCPPULRLA7ZZ7FHFFAU7RKXORS7AMQ\",\n",
       "      \"networkType\": 152\n",
       "    }\n",
       "  ],\n",
       "  \"multisigAddresses\": []\n",
       "}"
      ]
     },
     "metadata": {},
     "output_type": "display_data"
    }
   ],
   "source": []
  },
  {
   "attachments": {},
   "cell_type": "markdown",
   "metadata": {},
   "source": [
    "## 6.Botアカウントの起動\n",
    "\n",
    "main_botとsub_botの書名要求を検知するようにリスナーを登録します。<br />\n",
    "署名要求があればbotアカウントは自動的に署名を行います。<br />\n",
    "\n",
    "<span style=\"color:red\">\n",
    "\n",
    "### notebook形式では実行できないため、[こちら](multisig_payment.md)の方法を参照してください。\n",
    "\n",
    "</span>"
   ]
  },
  {
   "attachments": {},
   "cell_type": "markdown",
   "metadata": {},
   "source": [
    "## 7.マルチシグ署名\n",
    "\n",
    "マルチシグ化したアカウントからモザイクを送信します。送信先はbobです。\n",
    "\n",
    "### アグリゲートボンデッドトランザクションで送信\n",
    "\n",
    "アグリゲートボンデッドトランザクションの場合は連署者を指定せずにアナウンスできます。<br>\n",
    "事前にハッシュロックでトランザクションを留め置きしておくことを宣言しておき、連署者がネットワーク上に留め置きされたトランザクションに追加署名することで完成となります。"
   ]
  },
  {
   "cell_type": "code",
   "execution_count": 175,
   "metadata": {
    "dotnet_interactive": {
     "language": "javascript"
    },
    "polyglot_notebook": {
     "kernelName": "javascript"
    },
    "vscode": {
     "languageId": "polyglot-notebook"
    }
   },
   "outputs": [],
   "source": [
    "send_amount = 1; //1XYM\n",
    "tx = sym.TransferTransaction.create(\n",
    "  undefined,\n",
    "  bob.address, //bobへの送信\n",
    "  [new sym.Mosaic(new sym.NamespaceId(\"symbol.xym\"),sym.UInt64.fromUint(send_amount * 1000000))],\n",
    "  sym.PlainMessage.create('payment'),\n",
    "  networkType\n",
    ");\n",
    "aggregateTx = sym.AggregateTransaction.createBonded(\n",
    "  sym.Deadline.create(epochAdjustment),\n",
    "    [ //マルチシグ化したアカウントの公開鍵を指定\n",
    "      tx.toAggregate(alice.publicAccount)\n",
    "    ],\n",
    "  networkType,[],\n",
    ").setMaxFeeForAggregate(100, 2); // 第二引数に連署者の数:2\n",
    "//qrアカウントで書名\n",
    "signedAggregateTx = qr.sign(aggregateTx, generationHash);\n",
    "//ハッシュロックTXを作成\n",
    "hashLockTx = sym.HashLockTransaction.create(\n",
    "sym.Deadline.create(epochAdjustment),\n",
    "new sym.Mosaic(new sym.NamespaceId(\"symbol.xym\"),sym.UInt64.fromUint(10 * 1000000)), //固定値:10XYM\n",
    "sym.UInt64.fromUint(480),\n",
    "signedAggregateTx,\n",
    "networkType\n",
    ").setMaxFee(100);\n",
    "//qrアカウントで署名（10XYMはqrアカウントが担保する）\n",
    "signedLockTx = qr.sign(hashLockTx, generationHash);\n",
    "//ハッシュロックTXをアナウンス\n",
    "await txRepo.announce(signedLockTx).toPromise();"
   ]
  },
  {
   "cell_type": "markdown",
   "metadata": {},
   "source": [
    "### ハッシュロックがconfirmedになっていることを確認"
   ]
  },
  {
   "cell_type": "code",
   "execution_count": 177,
   "metadata": {
    "dotnet_interactive": {
     "language": "javascript"
    },
    "polyglot_notebook": {
     "kernelName": "javascript"
    },
    "vscode": {
     "languageId": "polyglot-notebook"
    }
   },
   "outputs": [
    {
     "data": {
      "application/json": {
       "code": "Success",
       "deadline": {
        "adjustedValue": 15261229400
       },
       "group": "confirmed",
       "hash": "5274A457ADD66445A55C0A48766F4547169195C57BAA9538CB8AB375CE478E62",
       "height": {
        "higher": 0,
        "lower": 412332
       }
      }
     },
     "metadata": {},
     "output_type": "display_data"
    },
    {
     "data": {
      "application/json": {
       "transaction": {
        "amount": "10000000",
        "deadline": "15261229400",
        "duration": "480",
        "hash": "32627B33725DFBD5069B595F21F2E9F62DF65892619749DCE7EF90CBCED8E647",
        "maxFee": "18400",
        "mosaicId": "E74B99BA41F4AFEE",
        "network": 152,
        "signature": "87E0632B9405198EB44AC6C5B6D425D7B56287E5332CC8A1E2005C7973605F61194668693767770CAC03E8B8E2BE3FFD5BFA353EF4C30200BB2E40C03E3B3609",
        "signerPublicKey": "D0869AED95371B2813D68875D2A376A991B71F056B7AA36796232A32A3BAC9AB",
        "type": 16712,
        "version": 1
       }
      }
     },
     "metadata": {},
     "output_type": "display_data"
    }
   ],
   "source": [
    "hash = signedLockTx.hash;\n",
    "tsRepo = repo.createTransactionStatusRepository();\n",
    "transactionStatus = await tsRepo.getTransactionStatus(hash).toPromise();\n",
    "console.log(transactionStatus);\n",
    "txInfo = await txRepo.getTransaction(hash,sym.TransactionGroup.Confirmed).toPromise();\n",
    "console.log(txInfo);"
   ]
  },
  {
   "cell_type": "code",
   "execution_count": 178,
   "metadata": {
    "dotnet_interactive": {
     "language": "javascript"
    },
    "polyglot_notebook": {
     "kernelName": "javascript"
    },
    "vscode": {
     "languageId": "polyglot-notebook"
    }
   },
   "outputs": [],
   "source": [
    "//ハッシュロックの承認を確認した後、ボンデッドTXをアナウンス\n",
    "await txRepo.announceAggregateBonded(signedAggregateTx).toPromise();"
   ]
  },
  {
   "attachments": {},
   "cell_type": "markdown",
   "metadata": {},
   "source": [
    "# これ以降は 6.Botアカウントの起動 の起動を行っている場合不要です。\n",
    "\n",
    "一応、何かしらの原因でトランザクションに署名できないときのために記載しておきます。"
   ]
  },
  {
   "cell_type": "code",
   "execution_count": 179,
   "metadata": {
    "dotnet_interactive": {
     "language": "javascript"
    },
    "polyglot_notebook": {
     "kernelName": "javascript"
    },
    "vscode": {
     "languageId": "polyglot-notebook"
    }
   },
   "outputs": [
    {
     "data": {
      "application/json": {
       "code": "Success",
       "deadline": {
        "adjustedValue": 15261229391
       },
       "group": "unconfirmed",
       "hash": "32627B33725DFBD5069B595F21F2E9F62DF65892619749DCE7EF90CBCED8E647",
       "height": {
        "higher": 0,
        "lower": 0
       }
      }
     },
     "metadata": {},
     "output_type": "display_data"
    },
    {
     "ename": "Error",
     "evalue": "{\"statusCode\":404,\"statusMessage\":\"Unknown Error\",\"body\":\"{\\\"code\\\":\\\"ResourceNotFound\\\",\\\"message\\\":\\\"no resource exists with id '32627B33725DFBD5069B595F21F2E9F62DF65892619749DCE7EF90CBCED8E647'\\\"}\"}",
     "output_type": "error",
     "traceback": [
      "{\"statusCode\":404,\"statusMessage\":\"Unknown Error\",\"body\":\"{\\\"code\\\":\\\"ResourceNotFound\\\",\\\"message\\\":\\\"no resource exists with id '32627B33725DFBD5069B595F21F2E9F62DF65892619749DCE7EF90CBCED8E647'\\\"}\"}"
     ]
    }
   ],
   "source": [
    "hash = signedAggregateTx.hash;\n",
    "tsRepo = repo.createTransactionStatusRepository();\n",
    "transactionStatus = await tsRepo.getTransactionStatus(hash).toPromise();\n",
    "console.log(transactionStatus);\n",
    "txInfo = await txRepo.getTransaction(hash,sym.TransactionGroup.Partial).toPromise();\n",
    "console.log(txInfo);\n",
    "console.log(`https://testnet.symbol.fyi/transactions/${hash}`) //ブラウザで確認を追加"
   ]
  },
  {
   "attachments": {},
   "cell_type": "markdown",
   "metadata": {},
   "source": [
    "ボンデッドトランザクションがノードに取り込まれるとパーシャル署名状態となるので、8.ロックで紹介した連署を使用して、マルチシグアカウントで連署します。 連署をサポートするウォレットで承認することもできます。"
   ]
  },
  {
   "attachments": {},
   "cell_type": "markdown",
   "metadata": {},
   "source": [
    "main_botで署名"
   ]
  },
  {
   "cell_type": "code",
   "execution_count": 169,
   "metadata": {
    "dotnet_interactive": {
     "language": "javascript"
    },
    "polyglot_notebook": {
     "kernelName": "javascript"
    },
    "vscode": {
     "languageId": "polyglot-notebook"
    }
   },
   "outputs": [
    {
     "ename": "Error",
     "evalue": "{\"statusCode\":404,\"statusMessage\":\"Unknown Error\",\"body\":\"{\\\"code\\\":\\\"ResourceNotFound\\\",\\\"message\\\":\\\"no resource exists with id '8052F92ECC05B62F4315FA23FB93256E67D53DE56681D5633D4DB00EB08F622E'\\\"}\"}",
     "output_type": "error",
     "traceback": [
      "{\"statusCode\":404,\"statusMessage\":\"Unknown Error\",\"body\":\"{\\\"code\\\":\\\"ResourceNotFound\\\",\\\"message\\\":\\\"no resource exists with id '8052F92ECC05B62F4315FA23FB93256E67D53DE56681D5633D4DB00EB08F622E'\\\"}\"}"
     ]
    }
   ],
   "source": [
    "targetHash = hash; //本来は自分宛のPartialトランザクションを確認して、その上でハッシュ値を確認し指定するが、今回は変数からハッシュ値を取り出している\n",
    "txInfo = await txRepo.getTransaction(targetHash,sym.TransactionGroup.Partial).toPromise(); //ハッシュ値でトランザクションを検索\n",
    "cosignatureTx = sym.CosignatureTransaction.create(txInfo); //連署用のトランザクションを作成\n",
    "signedCosTx = main_bot.signCosignatureTransaction(cosignatureTx);\n",
    "await txRepo.announceAggregateBondedCosignature(signedCosTx).toPromise(); //ブロックチェーンにアナウンス"
   ]
  },
  {
   "cell_type": "code",
   "execution_count": 172,
   "metadata": {
    "dotnet_interactive": {
     "language": "javascript"
    },
    "polyglot_notebook": {
     "kernelName": "javascript"
    },
    "vscode": {
     "languageId": "polyglot-notebook"
    }
   },
   "outputs": [
    {
     "data": {
      "application/json": {
       "code": "Success",
       "deadline": {
        "adjustedValue": 15261148254
       },
       "group": "partial",
       "hash": "05ADE688A107B895FFCA80506BF78D2903228AF1121EBC6DE62D839C88100EB4",
       "height": {
        "higher": 0,
        "lower": 0
       }
      }
     },
     "metadata": {},
     "output_type": "display_data"
    },
    {
     "data": {
      "application/json": {
       "transaction": {
        "cosignatures": [
         {
          "signature": "203E98AD425652D062C2B9E09CF0B4763ADCC60FFECF39943C555301866C8393F1B8640747C612AC7DB1E2674FD2109F5928A2F60E3E1007EB4A8D2297705507",
          "signerPublicKey": {
           "address": {
            "address": "TDFJ55RHBNCPPULRLA7ZZ7FHFFAU7RKXORS7AMQ",
            "networkType": 152
           },
           "publicKey": "BDB497BF6D9DDD8BE40E3CFF31E61593BC1F5D89BDA9B11132B30AE625DF2DE6"
          },
          "version": [
           0,
           0
          ]
         }
        ],
        "deadline": "15261148254",
        "maxFee": "48000",
        "network": 152,
        "signature": "E2A0DB4AE847C35E1BF0246180EA663D41EF1DC8AF6820EDC55484D1FD2109E34631EE44CB928A6DEFD486F5A219873D01A1A8B37304108006DC2A9D23E7850E",
        "signerPublicKey": "D0869AED95371B2813D68875D2A376A991B71F056B7AA36796232A32A3BAC9AB",
        "transactions": [
         {
          "transaction": {
           "deadline": "15261148254",
           "maxFee": "48000",
           "message": "007061796D656E74",
           "mosaics": [
            {
             "amount": "1000000",
             "id": "E74B99BA41F4AFEE"
            }
           ],
           "network": 152,
           "recipientAddress": {
            "address": "TBBVPXG3OO47DQXSRF6AJ35R4RGWVHX3IFOXLZI",
            "networkType": 152
           },
           "signature": "E2A0DB4AE847C35E1BF0246180EA663D41EF1DC8AF6820EDC55484D1FD2109E34631EE44CB928A6DEFD486F5A219873D01A1A8B37304108006DC2A9D23E7850E",
           "signerPublicKey": "C256FB1C212D86CB7524CF9A5D9F4A0F9374B8D2B1B252167C48FF803E22F335",
           "type": 16724,
           "version": 1
          }
         }
        ],
        "type": 16961,
        "version": 2
       }
      }
     },
     "metadata": {},
     "output_type": "display_data"
    },
    {
     "data": {
      "text/plain": [
       "https://testnet.symbol.fyi/transactions/05ADE688A107B895FFCA80506BF78D2903228AF1121EBC6DE62D839C88100EB4"
      ]
     },
     "metadata": {},
     "output_type": "display_data"
    }
   ],
   "source": [
    "hash = signedAggregateTx.hash;\n",
    "tsRepo = repo.createTransactionStatusRepository();\n",
    "transactionStatus = await tsRepo.getTransactionStatus(hash).toPromise();\n",
    "console.log(transactionStatus);\n",
    "txInfo = await txRepo.getTransaction(hash,sym.TransactionGroup.Partial).toPromise();\n",
    "console.log(txInfo);\n",
    "console.log(`https://testnet.symbol.fyi/transactions/${hash}`) //ブラウザで確認を追加"
   ]
  },
  {
   "attachments": {},
   "cell_type": "markdown",
   "metadata": {},
   "source": [
    "sub_botで署名"
   ]
  },
  {
   "cell_type": "code",
   "execution_count": 173,
   "metadata": {
    "dotnet_interactive": {
     "language": "javascript"
    },
    "polyglot_notebook": {
     "kernelName": "javascript"
    },
    "vscode": {
     "languageId": "polyglot-notebook"
    }
   },
   "outputs": [],
   "source": [
    "targetHash = hash; //本来は自分宛のPartialトランザクションを確認して、その上でハッシュ値を確認し指定するが、今回は変数からハッシュ値を取り出している\n",
    "txInfo = await txRepo.getTransaction(targetHash,sym.TransactionGroup.Partial).toPromise(); //ハッシュ値でトランザクションを検索\n",
    "cosignatureTx = sym.CosignatureTransaction.create(txInfo); //連署用のトランザクションを作成\n",
    "signedCosTx = sub_bot.signCosignatureTransaction(cosignatureTx);\n",
    "await txRepo.announceAggregateBondedCosignature(signedCosTx).toPromise(); //ブロックチェーンにアナウンス"
   ]
  },
  {
   "cell_type": "code",
   "execution_count": 180,
   "metadata": {
    "dotnet_interactive": {
     "language": "javascript"
    },
    "polyglot_notebook": {
     "kernelName": "javascript"
    },
    "vscode": {
     "languageId": "polyglot-notebook"
    }
   },
   "outputs": [
    {
     "data": {
      "application/json": {
       "code": "Success",
       "deadline": {
        "adjustedValue": 15261229391
       },
       "group": "unconfirmed",
       "hash": "32627B33725DFBD5069B595F21F2E9F62DF65892619749DCE7EF90CBCED8E647",
       "height": {
        "higher": 0,
        "lower": 0
       }
      }
     },
     "metadata": {},
     "output_type": "display_data"
    },
    {
     "ename": "Error",
     "evalue": "{\"statusCode\":404,\"statusMessage\":\"Unknown Error\",\"body\":\"{\\\"code\\\":\\\"ResourceNotFound\\\",\\\"message\\\":\\\"no resource exists with id '32627B33725DFBD5069B595F21F2E9F62DF65892619749DCE7EF90CBCED8E647'\\\"}\"}",
     "output_type": "error",
     "traceback": [
      "{\"statusCode\":404,\"statusMessage\":\"Unknown Error\",\"body\":\"{\\\"code\\\":\\\"ResourceNotFound\\\",\\\"message\\\":\\\"no resource exists with id '32627B33725DFBD5069B595F21F2E9F62DF65892619749DCE7EF90CBCED8E647'\\\"}\"}"
     ]
    }
   ],
   "source": [
    "hash = signedAggregateTx.hash;\n",
    "tsRepo = repo.createTransactionStatusRepository();\n",
    "transactionStatus = await tsRepo.getTransactionStatus(hash).toPromise();\n",
    "console.log(transactionStatus);\n",
    "txInfo = await txRepo.getTransaction(hash,sym.TransactionGroup.Confirmed).toPromise();\n",
    "console.log(txInfo);\n",
    "console.log(`https://testnet.symbol.fyi/transactions/${hash}`) //ブラウザで確認を追加"
   ]
  }
 ],
 "metadata": {
  "language_info": {
   "name": "python"
  },
  "orig_nbformat": 4
 },
 "nbformat": 4,
 "nbformat_minor": 2
}
