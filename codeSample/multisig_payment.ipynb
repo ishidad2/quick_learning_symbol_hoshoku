{
 "cells": [
  {
   "attachments": {},
   "cell_type": "markdown",
   "metadata": {},
   "source": [
    "<hr />\n",
    "\n",
    "### NoteBookの見方\n",
    "コード以外の情報 \n",
    "<span >白/黒での記載は速習Symbol</span>  \n",
    "<span style=\"color:red\">赤色での記載は補足情報</span>  \n",
    "<span >コード内で🌟マークがある場所は自分の情報に書き換えが必要</span>\n",
    "\n",
    "<hr />"
   ]
  },
  {
   "attachments": {},
   "cell_type": "markdown",
   "metadata": {},
   "source": [
    "# 環境構築\n",
    "\n",
    "## 1.Symbol SDKの読み込み </span>"
   ]
  },
  {
   "cell_type": "code",
   "execution_count": null,
   "metadata": {
    "dotnet_interactive": {
     "language": "javascript"
    },
    "polyglot_notebook": {
     "kernelName": "javascript"
    },
    "vscode": {
     "languageId": "polyglot-notebook"
    }
   },
   "outputs": [],
   "source": [
    "(script = document.createElement(\"script\")).src = \"https://xembook.github.io/nem2-browserify/symbol-sdk-pack-2.0.3.js\";\n",
    "document.getElementsByTagName(\"head\")[0].appendChild(script);"
   ]
  },
  {
   "attachments": {},
   "cell_type": "markdown",
   "metadata": {},
   "source": [
    "## 2.Symbol用の共通設定"
   ]
  },
  {
   "cell_type": "code",
   "execution_count": null,
   "metadata": {
    "dotnet_interactive": {
     "language": "javascript"
    },
    "polyglot_notebook": {
     "kernelName": "javascript"
    },
    "vscode": {
     "languageId": "polyglot-notebook"
    }
   },
   "outputs": [],
   "source": [
    "NODE = 'https://sym-test-03.opening-line.jp:3001';\n",
    "sym = require(\"/node_modules/symbol-sdk\");\n",
    "repo = new sym.RepositoryFactoryHttp(NODE);\n",
    "txRepo = repo.createTransactionRepository();\n",
    "mosaicRepo = repo.createMosaicRepository();\n",
    "accountRepo = repo.createAccountRepository();\n",
    "(async () => {\n",
    "  networkType = await repo.getNetworkType().toPromise();\n",
    "  generationHash = await repo.getGenerationHash().toPromise();\n",
    "  epochAdjustment = await repo.getEpochAdjustment().toPromise();\n",
    "})();\n",
    "\n",
    "function clog(signedTx){\n",
    "    console.log(NODE + \"/transactionStatus/\" + signedTx.hash);\n",
    "    console.log(NODE + \"/transactions/confirmed/\" + signedTx.hash);\n",
    "    console.log(\"https://symbol.fyi/transactions/\" + signedTx.hash);\n",
    "    console.log(\"https://testnet.symbol.fyi/transactions/\" + signedTx.hash);\n",
    "}"
   ]
  },
  {
   "attachments": {},
   "cell_type": "markdown",
   "metadata": {},
   "source": [
    "## 3.各種アカウントの復元\n",
    "\n",
    "<span style=\"color:red\">\n",
    "※各種アカウントがない場合は3-1へ\n",
    "</span>"
   ]
  },
  {
   "cell_type": "code",
   "execution_count": null,
   "metadata": {
    "dotnet_interactive": {
     "language": "javascript"
    },
    "polyglot_notebook": {
     "kernelName": "javascript"
    },
    "vscode": {
     "languageId": "polyglot-notebook"
    }
   },
   "outputs": [],
   "source": [
    "alice = sym.Account.createFromPrivateKey(\"🌟privateKey🌟\", networkType);\n",
    "main_bot = sym.Account.createFromPrivateKey(\"🌟privateKey🌟\", networkType);\n",
    "sub_bot = sym.Account.createFromPrivateKey(\"🌟privateKey🌟\", networkType);\n",
    "qr = sym.Account.createFromPrivateKey(\"🌟privateKey🌟\", networkType);\n",
    "bob = sym.Account.createFromPrivateKey(\"🌟privateKey🌟\", networkType);\n",
    "\n",
    "console.log(alice.address.plain());\n",
    "console.log(main_bot.address.plain());\n",
    "console.log(sub_bot.address.plain());\n",
    "console.log(qr.address.plain());\n",
    "console.log(bob.address.plain());"
   ]
  },
  {
   "attachments": {},
   "cell_type": "markdown",
   "metadata": {},
   "source": [
    "## 3-1.alice,main_bot,sub_bot,qr,bobアカウントの生成\n",
    "<span style=\"color:red\">\n",
    "※各種アカウントがない場合のみ\n",
    "</span>"
   ]
  },
  {
   "cell_type": "code",
   "execution_count": null,
   "metadata": {
    "dotnet_interactive": {
     "language": "javascript"
    },
    "polyglot_notebook": {
     "kernelName": "javascript"
    },
    "vscode": {
     "languageId": "polyglot-notebook"
    }
   },
   "outputs": [],
   "source": [
    "alice = sym.Account.generateNewAccount(networkType);\n",
    "main_bot = sym.Account.generateNewAccount(networkType);\n",
    "sub_bot = sym.Account.generateNewAccount(networkType);\n",
    "qr = sym.Account.generateNewAccount(networkType);\n",
    "bob = sym.Account.generateNewAccount(networkType);\n",
    "\n",
    "console.log(alice.address.plain());\n",
    "console.log(main_bot.address.plain());\n",
    "console.log(sub_bot.address.plain());\n",
    "console.log(qr.address.plain());\n",
    "console.log(bob.address.plain());\n",
    "\n",
    "now = new Date().getTime();\n",
    "\n",
    "data = 'alice: ' + alice.privateKey + \"\\r\\n\";\n",
    "data += 'main_bot: ' + main_bot.privateKey + \"\\r\\n\";\n",
    "data += 'sub_bot: ' + sub_bot.privateKey + \"\\r\\n\";\n",
    "data += 'qr: ' + qr.privateKey + \"\\r\\n\";\n",
    "data += 'bob: ' + bob.privateKey + \"\\r\\n\";\n",
    "if ( ~navigator.userAgent.indexOf(\"Windows\") ) {\n",
    "  data = data.replace(/\\n/g, \"\\r\\n\").replace(/\\r\\r/g, \"\\r\")\n",
    "}\n",
    "const blob = new Blob([data], {type: \"text/plain\"});\n",
    "const link = document.createElement(\"a\");\n",
    "link.href = URL.createObjectURL(blob);\n",
    "link.download = `privatekey-${now}.txt`;\n",
    "link.click();"
   ]
  },
  {
   "attachments": {},
   "cell_type": "markdown",
   "metadata": {},
   "source": [
    "## 4.各アカウントへ残高補充\n",
    "\n",
    "テストネットの場合はFAUCETでアカウントにXYMを補給しておきます。<br />\n",
    "既に残高がある場合は不要。\n",
    "- Faucet\n",
    "    - https://testnet.symbol.tools/\n",
    "\n",
    "##### URL出力\n"
   ]
  },
  {
   "cell_type": "code",
   "execution_count": null,
   "metadata": {
    "dotnet_interactive": {
     "language": "javascript"
    },
    "polyglot_notebook": {
     "kernelName": "javascript"
    },
    "vscode": {
     "languageId": "polyglot-notebook"
    }
   },
   "outputs": [],
   "source": [
    "console.log(\"https://testnet.symbol.tools/?recipient=\" + alice.address.plain() +\"&amount=500\");\n",
    "console.log(\"https://testnet.symbol.tools/?recipient=\" + qr.address.plain() +\"&amount=50\");\n",
    "console.log(\"https://testnet.symbol.tools/?recipient=\" + main_bot.address.plain() +\"&amount=1\");\n",
    "console.log(\"https://testnet.symbol.tools/?recipient=\" + sub_bot.address.plain() +\"&amount=1\");\n"
   ]
  },
  {
   "attachments": {},
   "cell_type": "markdown",
   "metadata": {},
   "source": [
    "## 5.aliceアカウントのマルチシグの登録\n",
    "<span style=\"color:red\">\n",
    "※既にマルチシグ化してある場合は不要\n",
    "</span>"
   ]
  },
  {
   "cell_type": "code",
   "execution_count": null,
   "metadata": {
    "dotnet_interactive": {
     "language": "javascript"
    },
    "polyglot_notebook": {
     "kernelName": "javascript"
    },
    "vscode": {
     "languageId": "polyglot-notebook"
    }
   },
   "outputs": [],
   "source": [
    "multisigTx = sym.MultisigAccountModificationTransaction.create(\n",
    "  undefined, \n",
    "  3, //minApproval:承認のために必要な最小署名者数増分\n",
    "  2, //minRemoval:除名のために必要な最小署名者数増分\n",
    "  [\n",
    "      qr.address,\n",
    "      main_bot.address,\n",
    "      sub_bot.address\n",
    "  ], //追加対象アドレスリスト\n",
    "  [],//除名対象アドレスリスト\n",
    "  networkType\n",
    ");\n",
    "aggregateTx = sym.AggregateTransaction.createComplete(\n",
    "  sym.Deadline.create(epochAdjustment),\n",
    "  [//マルチシグ化したいアカウントの公開鍵を指定\n",
    "    multisigTx.toAggregate(alice.publicAccount),\n",
    "  ],\n",
    "  networkType,[]\n",
    ").setMaxFeeForAggregate(100, 3); // 第二引数に連署者の数:2\n",
    "signedTx =  aggregateTx.signTransactionWithCosignatories(\n",
    "  alice, //マルチシグ化したいアカウント\n",
    "  [qr, main_bot, sub_bot], //追加・除外対象として指定したアカウント\n",
    "  generationHash,\n",
    ");\n",
    "await txRepo.announce(signedTx).toPromise();\n",
    "\n"
   ]
  },
  {
   "cell_type": "code",
   "execution_count": null,
   "metadata": {
    "dotnet_interactive": {
     "language": "javascript"
    },
    "polyglot_notebook": {
     "kernelName": "javascript"
    },
    "vscode": {
     "languageId": "polyglot-notebook"
    }
   },
   "outputs": [],
   "source": [
    "hash = signedTx.hash;\n",
    "tsRepo = repo.createTransactionStatusRepository();\n",
    "transactionStatus = await tsRepo.getTransactionStatus(hash).toPromise();\n",
    "console.log(transactionStatus);\n",
    "txInfo = await txRepo.getTransaction(hash,sym.TransactionGroup.Confirmed).toPromise();\n",
    "console.log(txInfo);\n",
    "console.log(`https://testnet.symbol.fyi/transactions/${hash}`) //ブラウザで確認を追加"
   ]
  },
  {
   "attachments": {},
   "cell_type": "markdown",
   "metadata": {},
   "source": [
    "## 5-2.確認\n",
    "\n",
    "マルチシグ化したアカウントの確認"
   ]
  },
  {
   "cell_type": "code",
   "execution_count": null,
   "metadata": {
    "dotnet_interactive": {
     "language": "javascript"
    },
    "polyglot_notebook": {
     "kernelName": "javascript"
    },
    "vscode": {
     "languageId": "polyglot-notebook"
    }
   },
   "outputs": [],
   "source": [
    "msigRepo = repo.createMultisigRepository();\n",
    "\n",
    "multisigInfo = await msigRepo.getMultisigAccountInfo(alice.address).toPromise();\n",
    "console.log(multisigInfo);"
   ]
  },
  {
   "attachments": {},
   "cell_type": "markdown",
   "metadata": {},
   "source": [
    "## 6.Botアカウントの起動\n",
    "\n",
    "main_botとsub_botの書名要求を検知するようにリスナーを登録します。<br />\n",
    "署名要求があればbotアカウントは自動的に署名を行います。<br />\n",
    "\n",
    "<span style=\"color:red\">\n",
    "\n",
    "### notebook形式では実行できないため、[こちら](multisig_payment.md)の方法を参照してください。\n",
    "\n",
    "</span>"
   ]
  },
  {
   "attachments": {},
   "cell_type": "markdown",
   "metadata": {},
   "source": [
    "## 7.マルチシグ署名\n",
    "\n",
    "マルチシグ化したアカウントからモザイクを送信します。送信先はbobです。\n",
    "\n",
    "### アグリゲートボンデッドトランザクションで送信\n",
    "\n",
    "アグリゲートボンデッドトランザクションの場合は連署者を指定せずにアナウンスできます。<br>\n",
    "事前にハッシュロックでトランザクションを留め置きしておくことを宣言しておき、連署者がネットワーク上に留め置きされたトランザクションに追加署名することで完成となります。"
   ]
  },
  {
   "cell_type": "code",
   "execution_count": null,
   "metadata": {
    "dotnet_interactive": {
     "language": "javascript"
    },
    "polyglot_notebook": {
     "kernelName": "javascript"
    },
    "vscode": {
     "languageId": "polyglot-notebook"
    }
   },
   "outputs": [],
   "source": [
    "send_amount = 1; //1XYM\n",
    "tx = sym.TransferTransaction.create(\n",
    "  undefined,\n",
    "  bob.address, //bobへの送信\n",
    "  [new sym.Mosaic(new sym.NamespaceId(\"symbol.xym\"),sym.UInt64.fromUint(send_amount * 1000000))],\n",
    "  sym.PlainMessage.create('payment'),\n",
    "  networkType\n",
    ");\n",
    "aggregateTx = sym.AggregateTransaction.createBonded(\n",
    "  sym.Deadline.create(epochAdjustment),\n",
    "    [ //マルチシグ化したアカウントの公開鍵を指定\n",
    "      tx.toAggregate(alice.publicAccount)\n",
    "    ],\n",
    "  networkType,[],\n",
    ").setMaxFeeForAggregate(100, 2); // 第二引数に連署者の数:2\n",
    "//qrアカウントで書名\n",
    "signedAggregateTx = qr.sign(aggregateTx, generationHash);\n",
    "//ハッシュロックTXを作成\n",
    "hashLockTx = sym.HashLockTransaction.create(\n",
    "sym.Deadline.create(epochAdjustment),\n",
    "new sym.Mosaic(new sym.NamespaceId(\"symbol.xym\"),sym.UInt64.fromUint(10 * 1000000)), //固定値:10XYM\n",
    "sym.UInt64.fromUint(480),\n",
    "signedAggregateTx,\n",
    "networkType\n",
    ").setMaxFee(100);\n",
    "//qrアカウントで署名（10XYMはqrアカウントが担保する）\n",
    "signedLockTx = qr.sign(hashLockTx, generationHash);\n",
    "//ハッシュロックTXをアナウンス\n",
    "await txRepo.announce(signedLockTx).toPromise();"
   ]
  },
  {
   "cell_type": "markdown",
   "metadata": {},
   "source": [
    "### ハッシュロックがconfirmedになっていることを確認"
   ]
  },
  {
   "cell_type": "code",
   "execution_count": null,
   "metadata": {
    "dotnet_interactive": {
     "language": "javascript"
    },
    "polyglot_notebook": {
     "kernelName": "javascript"
    },
    "vscode": {
     "languageId": "polyglot-notebook"
    }
   },
   "outputs": [],
   "source": [
    "hash = signedLockTx.hash;\n",
    "tsRepo = repo.createTransactionStatusRepository();\n",
    "transactionStatus = await tsRepo.getTransactionStatus(hash).toPromise();\n",
    "console.log(transactionStatus);\n",
    "txInfo = await txRepo.getTransaction(hash,sym.TransactionGroup.Confirmed).toPromise();\n",
    "console.log(txInfo);"
   ]
  },
  {
   "cell_type": "code",
   "execution_count": null,
   "metadata": {
    "dotnet_interactive": {
     "language": "javascript"
    },
    "polyglot_notebook": {
     "kernelName": "javascript"
    },
    "vscode": {
     "languageId": "polyglot-notebook"
    }
   },
   "outputs": [],
   "source": [
    "//ハッシュロックの承認を確認した後、ボンデッドTXをアナウンス\n",
    "await txRepo.announceAggregateBonded(signedAggregateTx).toPromise();"
   ]
  },
  {
   "attachments": {},
   "cell_type": "markdown",
   "metadata": {},
   "source": [
    "# これ以降は 6.Botアカウントの起動 の起動を行っている場合不要です。\n",
    "\n",
    "一応、何かしらの原因でトランザクションに署名できないときのために記載しておきます。"
   ]
  },
  {
   "cell_type": "code",
   "execution_count": null,
   "metadata": {
    "dotnet_interactive": {
     "language": "javascript"
    },
    "polyglot_notebook": {
     "kernelName": "javascript"
    },
    "vscode": {
     "languageId": "polyglot-notebook"
    }
   },
   "outputs": [],
   "source": [
    "hash = signedAggregateTx.hash;\n",
    "tsRepo = repo.createTransactionStatusRepository();\n",
    "transactionStatus = await tsRepo.getTransactionStatus(hash).toPromise();\n",
    "console.log(transactionStatus);\n",
    "txInfo = await txRepo.getTransaction(hash,sym.TransactionGroup.Partial).toPromise();\n",
    "console.log(txInfo);\n",
    "console.log(`https://testnet.symbol.fyi/transactions/${hash}`) //ブラウザで確認を追加"
   ]
  },
  {
   "attachments": {},
   "cell_type": "markdown",
   "metadata": {},
   "source": [
    "ボンデッドトランザクションがノードに取り込まれるとパーシャル署名状態となるので、8.ロックで紹介した連署を使用して、マルチシグアカウントで連署します。 連署をサポートするウォレットで承認することもできます。"
   ]
  },
  {
   "attachments": {},
   "cell_type": "markdown",
   "metadata": {},
   "source": [
    "main_botで署名"
   ]
  },
  {
   "cell_type": "code",
   "execution_count": null,
   "metadata": {
    "dotnet_interactive": {
     "language": "javascript"
    },
    "polyglot_notebook": {
     "kernelName": "javascript"
    },
    "vscode": {
     "languageId": "polyglot-notebook"
    }
   },
   "outputs": [],
   "source": [
    "targetHash = hash; //本来は自分宛のPartialトランザクションを確認して、その上でハッシュ値を確認し指定するが、今回は変数からハッシュ値を取り出している\n",
    "txInfo = await txRepo.getTransaction(targetHash,sym.TransactionGroup.Partial).toPromise(); //ハッシュ値でトランザクションを検索\n",
    "cosignatureTx = sym.CosignatureTransaction.create(txInfo); //連署用のトランザクションを作成\n",
    "signedCosTx = main_bot.signCosignatureTransaction(cosignatureTx);\n",
    "await txRepo.announceAggregateBondedCosignature(signedCosTx).toPromise(); //ブロックチェーンにアナウンス"
   ]
  },
  {
   "cell_type": "code",
   "execution_count": null,
   "metadata": {
    "dotnet_interactive": {
     "language": "javascript"
    },
    "polyglot_notebook": {
     "kernelName": "javascript"
    },
    "vscode": {
     "languageId": "polyglot-notebook"
    }
   },
   "outputs": [],
   "source": [
    "hash = signedAggregateTx.hash;\n",
    "tsRepo = repo.createTransactionStatusRepository();\n",
    "transactionStatus = await tsRepo.getTransactionStatus(hash).toPromise();\n",
    "console.log(transactionStatus);\n",
    "txInfo = await txRepo.getTransaction(hash,sym.TransactionGroup.Partial).toPromise();\n",
    "console.log(txInfo);\n",
    "console.log(`https://testnet.symbol.fyi/transactions/${hash}`) //ブラウザで確認を追加"
   ]
  },
  {
   "attachments": {},
   "cell_type": "markdown",
   "metadata": {},
   "source": [
    "sub_botで署名"
   ]
  },
  {
   "cell_type": "code",
   "execution_count": null,
   "metadata": {
    "dotnet_interactive": {
     "language": "javascript"
    },
    "polyglot_notebook": {
     "kernelName": "javascript"
    },
    "vscode": {
     "languageId": "polyglot-notebook"
    }
   },
   "outputs": [],
   "source": [
    "targetHash = hash; //本来は自分宛のPartialトランザクションを確認して、その上でハッシュ値を確認し指定するが、今回は変数からハッシュ値を取り出している\n",
    "txInfo = await txRepo.getTransaction(targetHash,sym.TransactionGroup.Partial).toPromise(); //ハッシュ値でトランザクションを検索\n",
    "cosignatureTx = sym.CosignatureTransaction.create(txInfo); //連署用のトランザクションを作成\n",
    "signedCosTx = sub_bot.signCosignatureTransaction(cosignatureTx);\n",
    "await txRepo.announceAggregateBondedCosignature(signedCosTx).toPromise(); //ブロックチェーンにアナウンス"
   ]
  },
  {
   "attachments": {},
   "cell_type": "markdown",
   "metadata": {},
   "source": [
    "# 最後に\n",
    "\n",
    "トランザクションがconfirmedになれば送信完了です！"
   ]
  },
  {
   "cell_type": "code",
   "execution_count": null,
   "metadata": {
    "dotnet_interactive": {
     "language": "javascript"
    },
    "polyglot_notebook": {
     "kernelName": "javascript"
    },
    "vscode": {
     "languageId": "polyglot-notebook"
    }
   },
   "outputs": [],
   "source": [
    "hash = signedAggregateTx.hash;\n",
    "tsRepo = repo.createTransactionStatusRepository();\n",
    "transactionStatus = await tsRepo.getTransactionStatus(hash).toPromise();\n",
    "console.log(transactionStatus);\n",
    "txInfo = await txRepo.getTransaction(hash,sym.TransactionGroup.Confirmed).toPromise();\n",
    "console.log(txInfo);\n",
    "console.log(`https://testnet.symbol.fyi/transactions/${hash}`) //ブラウザで確認を追加"
   ]
  }
 ],
 "metadata": {
  "language_info": {
   "name": "python"
  },
  "orig_nbformat": 4
 },
 "nbformat": 4,
 "nbformat_minor": 2
}
